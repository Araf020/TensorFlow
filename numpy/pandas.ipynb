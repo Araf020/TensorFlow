{
 "metadata": {
  "language_info": {
   "codemirror_mode": {
    "name": "ipython",
    "version": 3
   },
   "file_extension": ".py",
   "mimetype": "text/x-python",
   "name": "python",
   "nbconvert_exporter": "python",
   "pygments_lexer": "ipython3",
   "version": "3.8.10"
  },
  "orig_nbformat": 4,
  "kernelspec": {
   "name": "python3",
   "display_name": "Python 3.8.10 64-bit"
  },
  "interpreter": {
   "hash": "916dbcbb3f70747c44a77c7bcd40155683ae19c65e1c03b4aa3499c5328201f1"
  }
 },
 "nbformat": 4,
 "nbformat_minor": 2,
 "cells": [
  {
   "cell_type": "code",
   "execution_count": 1,
   "metadata": {},
   "outputs": [
    {
     "output_type": "stream",
     "name": "stdout",
     "text": [
      "   temperature  activity\n0            0         3\n1           10         7\n2           20         9\n3           30        14\n4           40        15\n"
     ]
    }
   ],
   "source": [
    "import numpy as np \n",
    "import pandas as pd \n",
    "# we will use mighty Dataframe here\n",
    "mydata = np.array([[0, 3], [10, 7], [20, 9], [30, 14], [40, 15]])\n",
    "mycolumn = ['temperature','activity']\n",
    "\n",
    "my_dataframe = pd.DataFrame(data= mydata, columns= mycolumn)\n",
    "\n",
    "print(my_dataframe)"
   ]
  },
  {
   "cell_type": "code",
   "execution_count": 3,
   "metadata": {},
   "outputs": [
    {
     "output_type": "stream",
     "name": "stdout",
     "text": [
      "   temperature  activity  adjusted\n0            0         3         5\n1           10         7         9\n2           20         9        11\n3           30        14        16\n4           40        15        17\n"
     ]
    }
   ],
   "source": [
    "#adding a new column\n",
    "\n",
    "my_dataframe['adjusted'] = my_dataframe[\"activity\"]+2\n",
    "\n",
    "print(my_dataframe)"
   ]
  },
  {
   "cell_type": "code",
   "execution_count": 5,
   "metadata": {},
   "outputs": [
    {
     "output_type": "stream",
     "name": "stdout",
     "text": [
      "   temperature  activity  adjusted\n0            0         3         5\n1           10         7         9\n2           20         9        11 \n\n   temperature  activity  adjusted\n2           20         9        11 \n\n   temperature  activity  adjusted\n1           10         7         9\n2           20         9        11\n3           30        14        16 \n\n0     0\n1    10\n2    20\n3    30\n4    40\nName: temperature, dtype: int64\n"
     ]
    }
   ],
   "source": [
    "#specifying a subset of a dataframe\n",
    "print(my_dataframe.head(3),'\\n')\n",
    "\n",
    "#print row 2\n",
    "print(my_dataframe.iloc[[2]],'\\n')\n",
    "#print row #1,2 3 . it's like slicing\n",
    "print(my_dataframe[1:4],'\\n')\n",
    "#print \"temperature\"\n",
    "print(my_dataframe[\"temperature\"])"
   ]
  },
  {
   "cell_type": "code",
   "execution_count": 18,
   "metadata": {},
   "outputs": [
    {
     "output_type": "stream",
     "name": "stdout",
     "text": [
      "   Eleanor  Chidi  Tahani  Jason\n0       96      2      36     93\n1       74      5      34     25\n2       27     31      18    100\n\nSecond row of the Eleanor column: 74\n\n   Eleanor  Chidi  Tahani  Jason  Janet\n0       96      2      36     93    129\n1       74      5      34     25     59\n2       27     31      18    100    118\n"
     ]
    }
   ],
   "source": [
    "## Task 1: Create a DataFrame\n",
    "my_column_names = ['Eleanor', 'Chidi', 'Tahani', 'Jason']\n",
    "\n",
    "# Create a 3x4 numpy array, each cell populated with a random integer.\n",
    "my_data = np.random.randint(low=0, high=101, size=(3, 4))\n",
    "\n",
    "# Create a DataFrame.\n",
    "df = pd.DataFrame(data=my_data, columns=my_column_names)\n",
    "\n",
    "# Print the entire DataFrame\n",
    "print(df)\n",
    "# Print the value in row #1 of the Eleanor column.\n",
    "print(\"\\nSecond row of the Eleanor column: %d\\n\" % df['Eleanor'][1])\n",
    "\n",
    "# Create a column named Janet whose contents are the sum\n",
    "# of two other columns.\n",
    "df['Janet'] = df['Tahani'] + df['Jason']\n",
    "\n",
    "# Print the enhanced DataFrame\n",
    "print(df)"
   ]
  },
  {
   "cell_type": "code",
   "execution_count": 19,
   "metadata": {},
   "outputs": [
    {
     "output_type": "stream",
     "name": "stdout",
     "text": [
      "Experiment with a reference:\n  Starting value of df: 25\n  Starting value of reference_to_df: 25\n\n"
     ]
    }
   ],
   "source": [
    "# Create a reference by assigning my_dataframe to a new variable.\n",
    "print(\"Experiment with a reference:\")\n",
    "reference_to_df = df\n",
    "\n",
    "# Print the starting value of a particular cell.\n",
    "print(\"  Starting value of df: %d\" % df['Jason'][1])\n",
    "print(\"  Starting value of reference_to_df: %d\\n\" % reference_to_df['Jason'][1])\n"
   ]
  },
  {
   "cell_type": "code",
   "execution_count": 22,
   "metadata": {},
   "outputs": [
    {
     "output_type": "stream",
     "name": "stdout",
     "text": [
      "  Updated df: 40\n  Updated reference_to_df: 40\n\n\n"
     ]
    }
   ],
   "source": [
    "df.at[1, 'Jason'] = df['Jason'][1] + 5\n",
    "print(\"  Updated df: %d\" % df['Jason'][1])\n",
    "print(\"  Updated reference_to_df: %d\\n\\n\" % reference_to_df['Jason'][1])\n"
   ]
  },
  {
   "cell_type": "code",
   "execution_count": null,
   "metadata": {},
   "outputs": [],
   "source": []
  }
 ]
}