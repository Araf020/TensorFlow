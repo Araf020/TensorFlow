{
 "cells": [
  {
   "cell_type": "code",
   "execution_count": 2,
   "metadata": {},
   "outputs": [
    {
     "name": "stderr",
     "output_type": "stream",
     "text": [
      "2021-10-02 12:42:26.394603: W tensorflow/stream_executor/platform/default/dso_loader.cc:64] Could not load dynamic library 'libcudart.so.11.0'; dlerror: libcudart.so.11.0: cannot open shared object file: No such file or directory\n",
      "2021-10-02 12:42:26.394662: I tensorflow/stream_executor/cuda/cudart_stub.cc:29] Ignore above cudart dlerror if you do not have a GPU set up on your machine.\n"
     ]
    },
    {
     "name": "stdout",
     "output_type": "stream",
     "text": [
      "Imported the modules.\n"
     ]
    }
   ],
   "source": [
    "# from __future__ import absolute_import, division, print_function, unicode_literals\n",
    "\n",
    "import numpy as np\n",
    "import pandas as pd\n",
    "import tensorflow as tf\n",
    "from tensorflow import feature_column\n",
    "from tensorflow.keras import layers\n",
    "\n",
    "from matplotlib import pyplot as plt\n",
    "\n",
    "# The following lines adjust the granularity of reporting.\n",
    "pd.options.display.max_rows = 10\n",
    "pd.options.display.float_format = \"{:.1f}\".format\n",
    "\n",
    "tf.keras.backend.set_floatx('float32')\n",
    "\n",
    "print(\"Imported the modules.\")"
   ]
  },
  {
   "cell_type": "code",
   "execution_count": 3,
   "metadata": {},
   "outputs": [],
   "source": [
    "# Load the dataset\n",
    "train_df = pd.read_csv(\"https://download.mlcc.google.com/mledu-datasets/california_housing_train.csv\")\n",
    "test_df = pd.read_csv(\"https://download.mlcc.google.com/mledu-datasets/california_housing_test.csv\")\n",
    "\n",
    "# Scale the labels\n",
    "scale_factor = 1000.0\n",
    "# Scale the training set's label.\n",
    "train_df[\"median_house_value\"] /= scale_factor \n",
    "\n",
    "# Scale the test set's label\n",
    "test_df[\"median_house_value\"] /= scale_factor\n",
    "\n",
    "train_df = train_df.reindex(np.random.permutation(train_df.index))"
   ]
  },
  {
   "cell_type": "markdown",
   "metadata": {},
   "source": [
    "feature columns"
   ]
  },
  {
   "cell_type": "code",
   "execution_count": 4,
   "metadata": {},
   "outputs": [],
   "source": [
    "# Creating an empty list that will eventually hold all feature columns.\n",
    "feature_columns = []\n",
    "\n",
    "latitude = tf.feature_column.numeric_column(\"latitude\")\n",
    "feature_columns.append(latitude)\n",
    "\n",
    "longitude = tf.feature_column.numeric_column(\"longitude\")\n",
    "feature_columns.append(longitude)\n",
    "\n",
    "#convert the list into a layer that will become part of the model.abs\n",
    "\n",
    "fp_feature_layer = layers.DenseFeatures(feature_columns)\n",
    "\n"
   ]
  },
  {
   "cell_type": "markdown",
   "metadata": {},
   "source": [
    "When used, the layer processes the raw inputs, according to the transformations described by the feature columns, and packs the result into a numeric array. (The model will train on this numeric array.)"
   ]
  },
  {
   "cell_type": "code",
   "execution_count": 16,
   "metadata": {},
   "outputs": [
    {
     "name": "stdout",
     "output_type": "stream",
     "text": [
      "Defined the create_model, train_model, and plot_the_loss_curve functions.\n"
     ]
    }
   ],
   "source": [
    "#here comes the train and buld model methods definition\n",
    "#And their Plot methods\n",
    "def create_model(my_learning_rate, feature_layer):\n",
    "  \"\"\"Creating and compiling a simple linear regression model.\"\"\"\n",
    "  model = tf.keras.models.Sequential()\n",
    "\n",
    "  # Add the layer containing the feature columns to the model.\n",
    "  model.add(feature_layer)\n",
    "\n",
    "  # Add one linear layer to the model to yield a simple linear regressor.\n",
    "  model.add(tf.keras.layers.Dense(units=1, input_shape=(1,)))\n",
    "\n",
    "  # Constructing the layers into a model that TensorFlow can execute.\n",
    "  model.compile(optimizer=tf.keras.optimizers.RMSprop(learning_rate==my_learning_rate),\n",
    "                loss=\"mean_squared_error\",\n",
    "                metrics=[tf.keras.metrics.RootMeanSquaredError()])\n",
    "\n",
    "  return model           \n",
    "\n",
    "\n",
    "def train_model(model, dataset, epochs, batch_size, label_name):\n",
    "  \"\"\"Feed a dataset into the model in order to train it.\"\"\"\n",
    "\n",
    "  features = {name:np.array(value) for name, value in dataset.items()}\n",
    "  label = np.array(features.pop(label_name))\n",
    "  history = model.fit(x=features, y=label, batch_size=batch_size,\n",
    "                      epochs=epochs, shuffle=True)\n",
    "\n",
    "  # The list of epochs is stored separately from the rest of history.\n",
    "  epochs = history.epoch\n",
    "  \n",
    "  # Isolate the mean absolute error for each epoch.\n",
    "  hist = pd.DataFrame(history.history)\n",
    "  rmse = hist[\"root_mean_squared_error\"]\n",
    "\n",
    "  return epochs, rmse   \n",
    "\n",
    "\n",
    "def plot_the_loss_curve(epochs, rmse):\n",
    "  \"\"\"Plot a curve of loss vs. epoch.\"\"\"\n",
    "\n",
    "  plt.figure()\n",
    "  plt.xlabel(\"Epoch\")\n",
    "  plt.ylabel(\"Root Mean Squared Error\")\n",
    "\n",
    "  plt.plot(epochs, rmse, label=\"Loss\")\n",
    "  plt.legend()\n",
    "  plt.ylim([rmse.min()*0.94, rmse.max()* 1.05])\n",
    "  plt.show()  \n",
    "\n",
    "print(\"Defined the create_model, train_model, and plot_the_loss_curve functions.\")\n"
   ]
  },
  {
   "cell_type": "code",
   "execution_count": 9,
   "metadata": {},
   "outputs": [
    {
     "name": "stderr",
     "output_type": "stream",
     "text": [
      "2021-10-02 13:12:57.604351: E tensorflow/stream_executor/cuda/cuda_driver.cc:271] failed call to cuInit: CUDA_ERROR_NO_DEVICE: no CUDA-capable device is detected\n",
      "2021-10-02 13:12:57.604429: I tensorflow/stream_executor/cuda/cuda_diagnostics.cc:156] kernel driver does not appear to be running on this host (harold-finch): /proc/driver/nvidia/version does not exist\n",
      "2021-10-02 13:12:57.622488: I tensorflow/core/platform/cpu_feature_guard.cc:142] This TensorFlow binary is optimized with oneAPI Deep Neural Network Library (oneDNN) to use the following CPU instructions in performance-critical operations:  AVX2 FMA\n",
      "To enable them in other operations, rebuild TensorFlow with the appropriate compiler flags.\n",
      "/home/arafat/.local/lib/python3.8/site-packages/keras/optimizer_v2/optimizer_v2.py:355: UserWarning: The `lr` argument is deprecated, use `learning_rate` instead.\n",
      "  warnings.warn(\n",
      "2021-10-02 13:12:58.373141: I tensorflow/compiler/mlir/mlir_graph_optimization_pass.cc:185] None of the MLIR Optimization Passes are enabled (registered 2)\n"
     ]
    },
    {
     "name": "stdout",
     "output_type": "stream",
     "text": [
      "Epoch 1/30\n",
      "WARNING:tensorflow:Layers in a Sequential model should only have a single input tensor, but we receive a <class 'dict'> input: {'longitude': <tf.Tensor 'ExpandDims_3:0' shape=(100, 1) dtype=float32>, 'latitude': <tf.Tensor 'ExpandDims_2:0' shape=(100, 1) dtype=float32>, 'housing_median_age': <tf.Tensor 'ExpandDims_1:0' shape=(100, 1) dtype=float32>, 'total_rooms': <tf.Tensor 'ExpandDims_7:0' shape=(100, 1) dtype=float32>, 'total_bedrooms': <tf.Tensor 'ExpandDims_6:0' shape=(100, 1) dtype=float32>, 'population': <tf.Tensor 'ExpandDims_5:0' shape=(100, 1) dtype=float32>, 'households': <tf.Tensor 'ExpandDims:0' shape=(100, 1) dtype=float32>, 'median_income': <tf.Tensor 'ExpandDims_4:0' shape=(100, 1) dtype=float32>}\n",
      "Consider rewriting this model with the Functional API.\n",
      "WARNING:tensorflow:Layers in a Sequential model should only have a single input tensor, but we receive a <class 'dict'> input: {'longitude': <tf.Tensor 'ExpandDims_3:0' shape=(100, 1) dtype=float32>, 'latitude': <tf.Tensor 'ExpandDims_2:0' shape=(100, 1) dtype=float32>, 'housing_median_age': <tf.Tensor 'ExpandDims_1:0' shape=(100, 1) dtype=float32>, 'total_rooms': <tf.Tensor 'ExpandDims_7:0' shape=(100, 1) dtype=float32>, 'total_bedrooms': <tf.Tensor 'ExpandDims_6:0' shape=(100, 1) dtype=float32>, 'population': <tf.Tensor 'ExpandDims_5:0' shape=(100, 1) dtype=float32>, 'households': <tf.Tensor 'ExpandDims:0' shape=(100, 1) dtype=float32>, 'median_income': <tf.Tensor 'ExpandDims_4:0' shape=(100, 1) dtype=float32>}\n",
      "Consider rewriting this model with the Functional API.\n",
      "170/170 [==============================] - 1s 1ms/step - loss: 14541.8027 - root_mean_squared_error: 120.5894\n",
      "Epoch 2/30\n",
      "170/170 [==============================] - 0s 919us/step - loss: 13571.8633 - root_mean_squared_error: 116.4983\n",
      "Epoch 3/30\n",
      "170/170 [==============================] - 0s 875us/step - loss: 13522.6445 - root_mean_squared_error: 116.2869\n",
      "Epoch 4/30\n",
      "170/170 [==============================] - 0s 826us/step - loss: 13461.4531 - root_mean_squared_error: 116.0235\n",
      "Epoch 5/30\n",
      "170/170 [==============================] - 0s 800us/step - loss: 13416.3047 - root_mean_squared_error: 115.8288\n",
      "Epoch 6/30\n",
      "170/170 [==============================] - 0s 837us/step - loss: 13379.0693 - root_mean_squared_error: 115.6679\n",
      "Epoch 7/30\n",
      "170/170 [==============================] - 0s 841us/step - loss: 13339.1445 - root_mean_squared_error: 115.4952\n",
      "Epoch 8/30\n",
      "170/170 [==============================] - 0s 876us/step - loss: 13301.8457 - root_mean_squared_error: 115.3336\n",
      "Epoch 9/30\n",
      "170/170 [==============================] - 0s 851us/step - loss: 13250.0850 - root_mean_squared_error: 115.1090\n",
      "Epoch 10/30\n",
      "170/170 [==============================] - 0s 799us/step - loss: 13219.0303 - root_mean_squared_error: 114.9740\n",
      "Epoch 11/30\n",
      "170/170 [==============================] - 0s 823us/step - loss: 13172.6094 - root_mean_squared_error: 114.7720\n",
      "Epoch 12/30\n",
      "170/170 [==============================] - 0s 940us/step - loss: 13144.0332 - root_mean_squared_error: 114.6474\n",
      "Epoch 13/30\n",
      "170/170 [==============================] - 0s 901us/step - loss: 13116.9453 - root_mean_squared_error: 114.5292\n",
      "Epoch 14/30\n",
      "170/170 [==============================] - 0s 1ms/step - loss: 13093.7793 - root_mean_squared_error: 114.4281\n",
      "Epoch 15/30\n",
      "170/170 [==============================] - 0s 847us/step - loss: 13075.2383 - root_mean_squared_error: 114.3470\n",
      "Epoch 16/30\n",
      "170/170 [==============================] - 0s 874us/step - loss: 13035.7988 - root_mean_squared_error: 114.1744\n",
      "Epoch 17/30\n",
      "170/170 [==============================] - 0s 937us/step - loss: 13018.7686 - root_mean_squared_error: 114.0998\n",
      "Epoch 18/30\n",
      "170/170 [==============================] - 0s 856us/step - loss: 13022.7900 - root_mean_squared_error: 114.1174\n",
      "Epoch 19/30\n",
      "170/170 [==============================] - 0s 827us/step - loss: 12999.7617 - root_mean_squared_error: 114.0165\n",
      "Epoch 20/30\n",
      "170/170 [==============================] - 0s 883us/step - loss: 12980.8701 - root_mean_squared_error: 113.9336\n",
      "Epoch 21/30\n",
      "170/170 [==============================] - 0s 1ms/step - loss: 12956.9482 - root_mean_squared_error: 113.8286\n",
      "Epoch 22/30\n",
      "170/170 [==============================] - 0s 2ms/step - loss: 12939.7744 - root_mean_squared_error: 113.7531\n",
      "Epoch 23/30\n",
      "170/170 [==============================] - 0s 1ms/step - loss: 12924.2676 - root_mean_squared_error: 113.6850\n",
      "Epoch 24/30\n",
      "170/170 [==============================] - 0s 1ms/step - loss: 12931.0713 - root_mean_squared_error: 113.7149\n",
      "Epoch 25/30\n",
      "170/170 [==============================] - 0s 1ms/step - loss: 12905.6172 - root_mean_squared_error: 113.6029\n",
      "Epoch 26/30\n",
      "170/170 [==============================] - 0s 1ms/step - loss: 12898.4961 - root_mean_squared_error: 113.5715\n",
      "Epoch 27/30\n",
      "170/170 [==============================] - 0s 974us/step - loss: 12895.5342 - root_mean_squared_error: 113.5585\n",
      "Epoch 28/30\n",
      "170/170 [==============================] - 0s 1ms/step - loss: 12860.4580 - root_mean_squared_error: 113.4040\n",
      "Epoch 29/30\n",
      "170/170 [==============================] - 0s 955us/step - loss: 12874.5342 - root_mean_squared_error: 113.4660\n",
      "Epoch 30/30\n",
      "170/170 [==============================] - 0s 1ms/step - loss: 12856.7676 - root_mean_squared_error: 113.3877\n"
     ]
    },
    {
     "data": {
      "image/png": "[encoded data removed]",
      "text/plain": [
       "<Figure size 432x288 with 1 Axes>"
      ]
     },
     "metadata": {
      "needs_background": "light"
     },
     "output_type": "display_data"
    },
    {
     "name": "stdout",
     "output_type": "stream",
     "text": [
      "\n",
      ": Evaluating the new model against the test set:\n",
      "WARNING:tensorflow:Layers in a Sequential model should only have a single input tensor, but we receive a <class 'dict'> input: {'longitude': <tf.Tensor 'ExpandDims_3:0' shape=(100, 1) dtype=float32>, 'latitude': <tf.Tensor 'ExpandDims_2:0' shape=(100, 1) dtype=float32>, 'housing_median_age': <tf.Tensor 'ExpandDims_1:0' shape=(100, 1) dtype=float32>, 'total_rooms': <tf.Tensor 'ExpandDims_7:0' shape=(100, 1) dtype=float32>, 'total_bedrooms': <tf.Tensor 'ExpandDims_6:0' shape=(100, 1) dtype=float32>, 'population': <tf.Tensor 'ExpandDims_5:0' shape=(100, 1) dtype=float32>, 'households': <tf.Tensor 'ExpandDims:0' shape=(100, 1) dtype=float32>, 'median_income': <tf.Tensor 'ExpandDims_4:0' shape=(100, 1) dtype=float32>}\n",
      "Consider rewriting this model with the Functional API.\n",
      "30/30 [==============================] - 0s 1ms/step - loss: 12232.0889 - root_mean_squared_error: 110.5988\n"
     ]
    },
    {
     "data": {
      "text/plain": [
       "[12232.0888671875, 110.5987777709961]"
      ]
     },
     "execution_count": 9,
     "metadata": {},
     "output_type": "execute_result"
    }
   ],
   "source": [
    "learning_rate = 0.05\n",
    "epochs = 30\n",
    "batch_size = 100\n",
    "label_name = \"median_house_value\"\n",
    "\n",
    "my_model = create_model(learning_rate,fp_feature_layer)\n",
    "\n",
    "epochs, rmse = train_model(my_model, train_df, epochs, batch_size, label_name)\n",
    "\n",
    "plot_the_loss_curve(epochs, rmse)\n",
    "\n",
    "print(\"\\n: Evaluating the new model against the test set:\")\n",
    "test_features = {name: np.array(value) for name , value in test_df.items()}\n",
    "\n",
    "# print(test_features)\n",
    "test_label = np.array(test_features.pop(label_name))\n",
    "\n",
    "# print(test_label)\n",
    "my_model.evaluate(x=test_features,y = test_label, batch_size= batch_size)\n"
   ]
  },
  {
   "cell_type": "markdown",
   "metadata": {},
   "source": [
    "\n",
    "# No. Representing latitude and longitude as \n",
    "# floating-point values does not have much \n",
    "# predictive power. For example, neighborhoods at \n",
    "# latitude 35 are not 36/35 more valuable \n",
    "# (or 35/36 less valuable) than houses at \n",
    "# latitude 36.\n",
    "\n",
    "# Representing `latitude` and `longitude` as \n",
    "# floating-point values provides almost no \n",
    "# predictive power. We're only using the raw values \n",
    "# to establish a baseline for future experiments \n",
    "# with better representations."
   ]
  },
  {
   "cell_type": "code",
   "execution_count": 41,
   "metadata": {},
   "outputs": [],
   "source": [
    "#Represent LAtitude and longitude in bins\n",
    "#10 buckets for lat\n",
    "#10 buckets for longitude\n",
    "\n",
    "resolution_in_degrees = 2.5\n",
    "\n",
    "feature_columns = []\n",
    "\n",
    "#creating bucket for latitude\n",
    "latitude_as_a_numeric_column = tf.feature_column.numeric_column(\"latitude\")\n",
    "\n",
    "latitude_boundaries = list(np.arange(int(min(train_df['latitude'])),\n",
    "                            int(max(train_df['latitude'])),\n",
    "                            resolution_in_degrees))\n",
    "\n",
    "latitude = tf.feature_column.bucketized_column(latitude_as_a_numeric_column, latitude_boundaries)\n",
    "feature_columns.append(latitude)\n",
    "\n",
    "#creating bucket for longitude\n",
    "longitude_as_a_numeric_column = tf.feature_column.numeric_column(\"longitude\")\n",
    "\n",
    "longitude_boundaries = list(np.arange(int(min(train_df['longitude'])),\n",
    "                            int(max(train_df['longitude'])),\n",
    "                            resolution_in_degrees))\n",
    "\n",
    "longitude = tf.feature_column.bucketized_column(longitude_as_a_numeric_column, longitude_boundaries)\n",
    "\n",
    "feature_columns.append(longitude)\n",
    "\n",
    "buckets_feature_layer = layers.DenseFeatures(feature_columns)\n",
    "\n"
   ]
  },
  {
   "cell_type": "code",
   "execution_count": 42,
   "metadata": {},
   "outputs": [
    {
     "name": "stdout",
     "output_type": "stream",
     "text": [
      "Epoch 1/35\n",
      "WARNING:tensorflow:Layers in a Sequential model should only have a single input tensor, but we receive a <class 'dict'> input: {'longitude': <tf.Tensor 'ExpandDims_3:0' shape=(100, 1) dtype=float32>, 'latitude': <tf.Tensor 'ExpandDims_2:0' shape=(100, 1) dtype=float32>, 'housing_median_age': <tf.Tensor 'ExpandDims_1:0' shape=(100, 1) dtype=float32>, 'total_rooms': <tf.Tensor 'ExpandDims_7:0' shape=(100, 1) dtype=float32>, 'total_bedrooms': <tf.Tensor 'ExpandDims_6:0' shape=(100, 1) dtype=float32>, 'population': <tf.Tensor 'ExpandDims_5:0' shape=(100, 1) dtype=float32>, 'households': <tf.Tensor 'ExpandDims:0' shape=(100, 1) dtype=float32>, 'median_income': <tf.Tensor 'ExpandDims_4:0' shape=(100, 1) dtype=float32>}\n",
      "Consider rewriting this model with the Functional API.\n",
      "WARNING:tensorflow:Layers in a Sequential model should only have a single input tensor, but we receive a <class 'dict'> input: {'longitude': <tf.Tensor 'ExpandDims_3:0' shape=(100, 1) dtype=float32>, 'latitude': <tf.Tensor 'ExpandDims_2:0' shape=(100, 1) dtype=float32>, 'housing_median_age': <tf.Tensor 'ExpandDims_1:0' shape=(100, 1) dtype=float32>, 'total_rooms': <tf.Tensor 'ExpandDims_7:0' shape=(100, 1) dtype=float32>, 'total_bedrooms': <tf.Tensor 'ExpandDims_6:0' shape=(100, 1) dtype=float32>, 'population': <tf.Tensor 'ExpandDims_5:0' shape=(100, 1) dtype=float32>, 'households': <tf.Tensor 'ExpandDims:0' shape=(100, 1) dtype=float32>, 'median_income': <tf.Tensor 'ExpandDims_4:0' shape=(100, 1) dtype=float32>}\n",
      "Consider rewriting this model with the Functional API.\n",
      "170/170 [==============================] - 0s 859us/step - loss: 16956.8438 - root_mean_squared_error: 130.2184\n",
      "Epoch 2/35\n",
      "170/170 [==============================] - 0s 1ms/step - loss: 10824.8496 - root_mean_squared_error: 104.0425\n",
      "Epoch 3/35\n",
      "170/170 [==============================] - 0s 1ms/step - loss: 10701.3643 - root_mean_squared_error: 103.4474\n",
      "Epoch 4/35\n",
      "170/170 [==============================] - 0s 959us/step - loss: 10664.2158 - root_mean_squared_error: 103.2677\n",
      "Epoch 5/35\n",
      "170/170 [==============================] - 0s 980us/step - loss: 10654.0557 - root_mean_squared_error: 103.2185\n",
      "Epoch 6/35\n",
      "170/170 [==============================] - 0s 974us/step - loss: 10649.5186 - root_mean_squared_error: 103.1965\n",
      "Epoch 7/35\n",
      "170/170 [==============================] - 0s 997us/step - loss: 10649.4805 - root_mean_squared_error: 103.1963\n",
      "Epoch 8/35\n",
      "170/170 [==============================] - 0s 1ms/step - loss: 10645.5820 - root_mean_squared_error: 103.1774\n",
      "Epoch 9/35\n",
      "170/170 [==============================] - 0s 964us/step - loss: 10647.7676 - root_mean_squared_error: 103.1880\n",
      "Epoch 10/35\n",
      "170/170 [==============================] - 0s 1ms/step - loss: 10647.6523 - root_mean_squared_error: 103.1875\n",
      "Epoch 11/35\n",
      "170/170 [==============================] - 0s 1ms/step - loss: 10648.4199 - root_mean_squared_error: 103.1912\n",
      "Epoch 12/35\n",
      "170/170 [==============================] - 0s 1ms/step - loss: 10651.5947 - root_mean_squared_error: 103.2066\n",
      "Epoch 13/35\n",
      "170/170 [==============================] - 0s 1ms/step - loss: 10650.1943 - root_mean_squared_error: 103.1998\n",
      "Epoch 14/35\n",
      "170/170 [==============================] - 0s 978us/step - loss: 10652.5293 - root_mean_squared_error: 103.2111\n",
      "Epoch 15/35\n",
      "170/170 [==============================] - 0s 1ms/step - loss: 10651.2354 - root_mean_squared_error: 103.2048\n",
      "Epoch 16/35\n",
      "170/170 [==============================] - 0s 1ms/step - loss: 10649.3555 - root_mean_squared_error: 103.1957\n",
      "Epoch 17/35\n",
      "170/170 [==============================] - 0s 1ms/step - loss: 10652.2266 - root_mean_squared_error: 103.2096\n",
      "Epoch 18/35\n",
      "170/170 [==============================] - 0s 1ms/step - loss: 10644.1318 - root_mean_squared_error: 103.1704\n",
      "Epoch 19/35\n",
      "170/170 [==============================] - 0s 1ms/step - loss: 10642.2812 - root_mean_squared_error: 103.1614\n",
      "Epoch 20/35\n",
      "170/170 [==============================] - 0s 1ms/step - loss: 10648.8496 - root_mean_squared_error: 103.1933\n",
      "Epoch 21/35\n",
      "170/170 [==============================] - 0s 1ms/step - loss: 10653.0801 - root_mean_squared_error: 103.2138\n",
      "Epoch 22/35\n",
      "170/170 [==============================] - 0s 1ms/step - loss: 10650.2764 - root_mean_squared_error: 103.2002\n",
      "Epoch 23/35\n",
      "170/170 [==============================] - 0s 1ms/step - loss: 10650.3242 - root_mean_squared_error: 103.2004\n",
      "Epoch 24/35\n",
      "170/170 [==============================] - 0s 962us/step - loss: 10648.2559 - root_mean_squared_error: 103.1904\n",
      "Epoch 25/35\n",
      "170/170 [==============================] - 0s 1ms/step - loss: 10643.0293 - root_mean_squared_error: 103.1651\n",
      "Epoch 26/35\n",
      "170/170 [==============================] - 0s 965us/step - loss: 10654.1445 - root_mean_squared_error: 103.2189\n",
      "Epoch 27/35\n",
      "170/170 [==============================] - 0s 1ms/step - loss: 10651.2158 - root_mean_squared_error: 103.2047\n",
      "Epoch 28/35\n",
      "170/170 [==============================] - 0s 1ms/step - loss: 10644.4668 - root_mean_squared_error: 103.1720\n",
      "Epoch 29/35\n",
      "170/170 [==============================] - 0s 988us/step - loss: 10648.5518 - root_mean_squared_error: 103.1918\n",
      "Epoch 30/35\n",
      "170/170 [==============================] - 0s 1ms/step - loss: 10648.4707 - root_mean_squared_error: 103.1914\n",
      "Epoch 31/35\n",
      "170/170 [==============================] - 0s 1ms/step - loss: 10651.3086 - root_mean_squared_error: 103.2052\n",
      "Epoch 32/35\n",
      "170/170 [==============================] - 0s 1ms/step - loss: 10647.9854 - root_mean_squared_error: 103.1891\n",
      "Epoch 33/35\n",
      "170/170 [==============================] - 0s 1ms/step - loss: 10651.5830 - root_mean_squared_error: 103.2065\n",
      "Epoch 34/35\n",
      "170/170 [==============================] - 0s 1ms/step - loss: 10640.6182 - root_mean_squared_error: 103.1534\n",
      "Epoch 35/35\n",
      "170/170 [==============================] - 0s 1ms/step - loss: 10650.0498 - root_mean_squared_error: 103.1991\n"
     ]
    },
    {
     "data": {
      "image/png": "[encoded data removed]",
      "text/plain": [
       "<Figure size 432x288 with 1 Axes>"
      ]
     },
     "metadata": {
      "needs_background": "light"
     },
     "output_type": "display_data"
    },
    {
     "name": "stdout",
     "output_type": "stream",
     "text": [
      "\n",
      ": Evaluate the new model against the test set:\n",
      "WARNING:tensorflow:Layers in a Sequential model should only have a single input tensor, but we receive a <class 'dict'> input: {'longitude': <tf.Tensor 'ExpandDims_3:0' shape=(100, 1) dtype=float32>, 'latitude': <tf.Tensor 'ExpandDims_2:0' shape=(100, 1) dtype=float32>, 'housing_median_age': <tf.Tensor 'ExpandDims_1:0' shape=(100, 1) dtype=float32>, 'total_rooms': <tf.Tensor 'ExpandDims_7:0' shape=(100, 1) dtype=float32>, 'total_bedrooms': <tf.Tensor 'ExpandDims_6:0' shape=(100, 1) dtype=float32>, 'population': <tf.Tensor 'ExpandDims_5:0' shape=(100, 1) dtype=float32>, 'households': <tf.Tensor 'ExpandDims:0' shape=(100, 1) dtype=float32>, 'median_income': <tf.Tensor 'ExpandDims_4:0' shape=(100, 1) dtype=float32>}\n",
      "Consider rewriting this model with the Functional API.\n",
      "30/30 [==============================] - 0s 801us/step - loss: 10276.1309 - root_mean_squared_error: 101.3713\n"
     ]
    },
    {
     "data": {
      "text/plain": [
       "[10276.130859375, 101.37125396728516]"
      ]
     },
     "execution_count": 42,
     "metadata": {},
     "output_type": "execute_result"
    }
   ],
   "source": [
    "#train the model with bucketsized features\\\n",
    "\n",
    "learning_rate=0.04\n",
    "epochs = 35\n",
    "\n",
    "my_model = create_model(learning_rate,buckets_feature_layer)\n",
    "\n",
    "epochs, rmse = train_model(my_model, train_df, epochs, batch_size, label_name)\n",
    "\n",
    "plot_the_loss_curve(epochs, rmse)\n",
    "print(\"\\n: Evaluate the new model against the test set:\")\n",
    "\n",
    "my_model.evaluate(x= test_features,y = test_label, batch_size= batch_size )\n",
    "\n"
   ]
  },
  {
   "cell_type": "code",
   "execution_count": 43,
   "metadata": {},
   "outputs": [],
   "source": [
    "#so binning outperforms float point representation of features\n",
    "\n",
    "# more imporvement possible using feature cross\n",
    "\n",
    "feature_columns = []\n",
    "\n",
    "latitude_x_longitude= tf.feature_column.crossed_column([latitude, longitude],hash_bucket_size=100)\n",
    "crossed_feature = tf.feature_column.indicator_column(latitude_x_longitude)\n",
    "feature_columns.append(crossed_feature)\n",
    "\n",
    "feature_cross_feature_layer = layers.DenseFeatures(feature_columns)\n",
    "\n",
    "\n"
   ]
  },
  {
   "cell_type": "code",
   "execution_count": 44,
   "metadata": {},
   "outputs": [
    {
     "name": "stdout",
     "output_type": "stream",
     "text": [
      "Epoch 1/35\n",
      "WARNING:tensorflow:Layers in a Sequential model should only have a single input tensor, but we receive a <class 'dict'> input: {'longitude': <tf.Tensor 'ExpandDims_3:0' shape=(100, 1) dtype=float32>, 'latitude': <tf.Tensor 'ExpandDims_2:0' shape=(100, 1) dtype=float32>, 'housing_median_age': <tf.Tensor 'ExpandDims_1:0' shape=(100, 1) dtype=float32>, 'total_rooms': <tf.Tensor 'ExpandDims_7:0' shape=(100, 1) dtype=float32>, 'total_bedrooms': <tf.Tensor 'ExpandDims_6:0' shape=(100, 1) dtype=float32>, 'population': <tf.Tensor 'ExpandDims_5:0' shape=(100, 1) dtype=float32>, 'households': <tf.Tensor 'ExpandDims:0' shape=(100, 1) dtype=float32>, 'median_income': <tf.Tensor 'ExpandDims_4:0' shape=(100, 1) dtype=float32>}\n",
      "Consider rewriting this model with the Functional API.\n",
      "WARNING:tensorflow:Layers in a Sequential model should only have a single input tensor, but we receive a <class 'dict'> input: {'longitude': <tf.Tensor 'ExpandDims_3:0' shape=(100, 1) dtype=float32>, 'latitude': <tf.Tensor 'ExpandDims_2:0' shape=(100, 1) dtype=float32>, 'housing_median_age': <tf.Tensor 'ExpandDims_1:0' shape=(100, 1) dtype=float32>, 'total_rooms': <tf.Tensor 'ExpandDims_7:0' shape=(100, 1) dtype=float32>, 'total_bedrooms': <tf.Tensor 'ExpandDims_6:0' shape=(100, 1) dtype=float32>, 'population': <tf.Tensor 'ExpandDims_5:0' shape=(100, 1) dtype=float32>, 'households': <tf.Tensor 'ExpandDims:0' shape=(100, 1) dtype=float32>, 'median_income': <tf.Tensor 'ExpandDims_4:0' shape=(100, 1) dtype=float32>}\n",
      "Consider rewriting this model with the Functional API.\n",
      "170/170 [==============================] - 1s 1ms/step - loss: 20156.2656 - root_mean_squared_error: 141.9728\n",
      "Epoch 2/35\n",
      "170/170 [==============================] - 0s 1ms/step - loss: 10581.9463 - root_mean_squared_error: 102.8686\n",
      "Epoch 3/35\n",
      "170/170 [==============================] - 0s 1ms/step - loss: 10568.1191 - root_mean_squared_error: 102.8013\n",
      "Epoch 4/35\n",
      "170/170 [==============================] - 0s 1ms/step - loss: 10569.3047 - root_mean_squared_error: 102.8071\n",
      "Epoch 5/35\n",
      "170/170 [==============================] - 0s 1ms/step - loss: 10571.6602 - root_mean_squared_error: 102.8186\n",
      "Epoch 6/35\n",
      "170/170 [==============================] - 0s 1ms/step - loss: 10564.6475 - root_mean_squared_error: 102.7845\n",
      "Epoch 7/35\n",
      "170/170 [==============================] - 0s 1ms/step - loss: 10569.3955 - root_mean_squared_error: 102.8076\n",
      "Epoch 8/35\n",
      "170/170 [==============================] - 0s 1ms/step - loss: 10567.3525 - root_mean_squared_error: 102.7976\n",
      "Epoch 9/35\n",
      "170/170 [==============================] - 0s 1ms/step - loss: 10571.4404 - root_mean_squared_error: 102.8175\n",
      "Epoch 10/35\n",
      "170/170 [==============================] - 0s 1ms/step - loss: 10571.5527 - root_mean_squared_error: 102.8181\n",
      "Epoch 11/35\n",
      "170/170 [==============================] - 0s 1ms/step - loss: 10567.3828 - root_mean_squared_error: 102.7978\n",
      "Epoch 12/35\n",
      "170/170 [==============================] - 0s 1ms/step - loss: 10565.9219 - root_mean_squared_error: 102.7907\n",
      "Epoch 13/35\n",
      "170/170 [==============================] - 0s 1ms/step - loss: 10566.7822 - root_mean_squared_error: 102.7949\n",
      "Epoch 14/35\n",
      "170/170 [==============================] - 0s 1ms/step - loss: 10569.1230 - root_mean_squared_error: 102.8062\n",
      "Epoch 15/35\n",
      "170/170 [==============================] - 0s 1ms/step - loss: 10564.3213 - root_mean_squared_error: 102.7829\n",
      "Epoch 16/35\n",
      "170/170 [==============================] - 0s 1ms/step - loss: 10572.0430 - root_mean_squared_error: 102.8204\n",
      "Epoch 17/35\n",
      "170/170 [==============================] - 0s 1ms/step - loss: 10570.0059 - root_mean_squared_error: 102.8105\n",
      "Epoch 18/35\n",
      "170/170 [==============================] - 0s 1ms/step - loss: 10574.1758 - root_mean_squared_error: 102.8308\n",
      "Epoch 19/35\n",
      "170/170 [==============================] - 0s 1ms/step - loss: 10567.9951 - root_mean_squared_error: 102.8008\n",
      "Epoch 20/35\n",
      "170/170 [==============================] - 0s 1ms/step - loss: 10572.6201 - root_mean_squared_error: 102.8232\n",
      "Epoch 21/35\n",
      "170/170 [==============================] - 0s 1ms/step - loss: 10572.5166 - root_mean_squared_error: 102.8227\n",
      "Epoch 22/35\n",
      "170/170 [==============================] - 0s 1ms/step - loss: 10565.5312 - root_mean_squared_error: 102.7888\n",
      "Epoch 23/35\n",
      "170/170 [==============================] - 0s 1ms/step - loss: 10573.5342 - root_mean_squared_error: 102.8277\n",
      "Epoch 24/35\n",
      "170/170 [==============================] - 0s 1ms/step - loss: 10572.8867 - root_mean_squared_error: 102.8245\n",
      "Epoch 25/35\n",
      "170/170 [==============================] - 0s 1ms/step - loss: 10569.1211 - root_mean_squared_error: 102.8062\n",
      "Epoch 26/35\n",
      "170/170 [==============================] - 0s 1ms/step - loss: 10571.9053 - root_mean_squared_error: 102.8198\n",
      "Epoch 27/35\n",
      "170/170 [==============================] - 0s 1ms/step - loss: 10575.4648 - root_mean_squared_error: 102.8371\n",
      "Epoch 28/35\n",
      "170/170 [==============================] - 0s 1ms/step - loss: 10572.6094 - root_mean_squared_error: 102.8232\n",
      "Epoch 29/35\n",
      "170/170 [==============================] - 0s 1ms/step - loss: 10570.3516 - root_mean_squared_error: 102.8122\n",
      "Epoch 30/35\n",
      "170/170 [==============================] - 0s 1ms/step - loss: 10572.4092 - root_mean_squared_error: 102.8222\n",
      "Epoch 31/35\n",
      "170/170 [==============================] - 0s 1ms/step - loss: 10569.9004 - root_mean_squared_error: 102.8100\n",
      "Epoch 32/35\n",
      "170/170 [==============================] - 0s 1ms/step - loss: 10574.1230 - root_mean_squared_error: 102.8306\n",
      "Epoch 33/35\n",
      "170/170 [==============================] - 0s 1ms/step - loss: 10572.9346 - root_mean_squared_error: 102.8248\n",
      "Epoch 34/35\n",
      "170/170 [==============================] - 0s 1ms/step - loss: 10572.5469 - root_mean_squared_error: 102.8229\n",
      "Epoch 35/35\n",
      "170/170 [==============================] - 0s 1ms/step - loss: 10568.3711 - root_mean_squared_error: 102.8026\n"
     ]
    },
    {
     "data": {
      "image/png": "[encoded data removed]",
      "text/plain": [
       "<Figure size 432x288 with 1 Axes>"
      ]
     },
     "metadata": {
      "needs_background": "light"
     },
     "output_type": "display_data"
    },
    {
     "name": "stdout",
     "output_type": "stream",
     "text": [
      "\n",
      ": Evaluate the new model against the test set:\n",
      "WARNING:tensorflow:Layers in a Sequential model should only have a single input tensor, but we receive a <class 'dict'> input: {'longitude': <tf.Tensor 'ExpandDims_3:0' shape=(100, 1) dtype=float32>, 'latitude': <tf.Tensor 'ExpandDims_2:0' shape=(100, 1) dtype=float32>, 'housing_median_age': <tf.Tensor 'ExpandDims_1:0' shape=(100, 1) dtype=float32>, 'total_rooms': <tf.Tensor 'ExpandDims_7:0' shape=(100, 1) dtype=float32>, 'total_bedrooms': <tf.Tensor 'ExpandDims_6:0' shape=(100, 1) dtype=float32>, 'population': <tf.Tensor 'ExpandDims_5:0' shape=(100, 1) dtype=float32>, 'households': <tf.Tensor 'ExpandDims:0' shape=(100, 1) dtype=float32>, 'median_income': <tf.Tensor 'ExpandDims_4:0' shape=(100, 1) dtype=float32>}\n",
      "Consider rewriting this model with the Functional API.\n",
      "30/30 [==============================] - 0s 887us/step - loss: 10175.8936 - root_mean_squared_error: 100.8756\n"
     ]
    },
    {
     "data": {
      "text/plain": [
       "[10175.8935546875, 100.8756332397461]"
      ]
     },
     "execution_count": 44,
     "metadata": {},
     "output_type": "execute_result"
    }
   ],
   "source": [
    "learning_rate = 0.04\n",
    "epochs = 35\n",
    "# create the model\n",
    "my_model = create_model(learning_rate, feature_cross_feature_layer)\n",
    "\n",
    "#Train the model\n",
    "epochs, rmse = train_model(my_model,train_df, epochs, batch_size, label_name)\n",
    "\n",
    "plot_the_loss_curve(epochs, rmse)\n",
    "\n",
    "print(\"\\n: Evaluate the new model against the test set:\")\n",
    "\n",
    "my_model.evaluate(x = test_features, y = test_label, batch_size= batch_size)\n",
    "\n"
   ]
  },
  {
   "cell_type": "code",
   "execution_count": 46,
   "metadata": {},
   "outputs": [],
   "source": [
    "#changing resolution_in_degrees and see the difference\n",
    "\n"
   ]
  },
  {
   "cell_type": "code",
   "execution_count": null,
   "metadata": {},
   "outputs": [],
   "source": []
  }
 ],
 "metadata": {
  "interpreter": {
   "hash": "31f2aee4e71d21fbe5cf8b01ff0e069b9275f58929596ceb00d14d90e3e16cd6"
  },
  "kernelspec": {
   "display_name": "Python 3.8.10 64-bit",
   "name": "python3"
  },
  "language_info": {
   "name": "python",
   "version": ""
  },
  "orig_nbformat": 4
 },
 "nbformat": 4,
 "nbformat_minor": 2
}