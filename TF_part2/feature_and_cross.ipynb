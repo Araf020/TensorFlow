{
 "cells": [
  {
   "cell_type": "code",
   "execution_count": 2,
   "metadata": {},
   "outputs": [
    {
     "name": "stderr",
     "output_type": "stream",
     "text": [
      "2021-10-02 12:42:26.394603: W tensorflow/stream_executor/platform/default/dso_loader.cc:64] Could not load dynamic library 'libcudart.so.11.0'; dlerror: libcudart.so.11.0: cannot open shared object file: No such file or directory\n",
      "2021-10-02 12:42:26.394662: I tensorflow/stream_executor/cuda/cudart_stub.cc:29] Ignore above cudart dlerror if you do not have a GPU set up on your machine.\n"
     ]
    },
    {
     "name": "stdout",
     "output_type": "stream",
     "text": [
      "Imported the modules.\n"
     ]
    }
   ],
   "source": [
    "# from __future__ import absolute_import, division, print_function, unicode_literals\n",
    "\n",
    "import numpy as np\n",
    "import pandas as pd\n",
    "import tensorflow as tf\n",
    "from tensorflow import feature_column\n",
    "from tensorflow.keras import layers\n",
    "\n",
    "from matplotlib import pyplot as plt\n",
    "\n",
    "# The following lines adjust the granularity of reporting.\n",
    "pd.options.display.max_rows = 10\n",
    "pd.options.display.float_format = \"{:.1f}\".format\n",
    "\n",
    "tf.keras.backend.set_floatx('float32')\n",
    "\n",
    "print(\"Imported the modules.\")"
   ]
  },
  {
   "cell_type": "code",
   "execution_count": 3,
   "metadata": {},
   "outputs": [],
   "source": [
    "# Load the dataset\n",
    "train_df = pd.read_csv(\"https://download.mlcc.google.com/mledu-datasets/california_housing_train.csv\")\n",
    "test_df = pd.read_csv(\"https://download.mlcc.google.com/mledu-datasets/california_housing_test.csv\")\n",
    "\n",
    "# Scale the labels\n",
    "scale_factor = 1000.0\n",
    "# Scale the training set's label.\n",
    "train_df[\"median_house_value\"] /= scale_factor \n",
    "\n",
    "# Scale the test set's label\n",
    "test_df[\"median_house_value\"] /= scale_factor\n",
    "\n",
    "train_df = train_df.reindex(np.random.permutation(train_df.index))"
   ]
  },
  {
   "cell_type": "markdown",
   "metadata": {},
   "source": [
    "feature columns"
   ]
  },
  {
   "cell_type": "code",
   "execution_count": 4,
   "metadata": {},
   "outputs": [],
   "source": [
    "# Creating an empty list that will eventually hold all feature columns.\n",
    "feature_columns = []\n",
    "\n",
    "latitude = tf.feature_column.numeric_column(\"latitude\")\n",
    "feature_columns.append(latitude)\n",
    "\n",
    "longitude = tf.feature_column.numeric_column(\"longitude\")\n",
    "feature_columns.append(longitude)\n",
    "\n",
    "#convert the list into a layer that will become part of the model.abs\n",
    "\n",
    "fp_feature_layer = layers.DenseFeatures(feature_columns)\n",
    "\n"
   ]
  },
  {
   "cell_type": "markdown",
   "metadata": {},
   "source": [
    "When used, the layer processes the raw inputs, according to the transformations described by the feature columns, and packs the result into a numeric array. (The model will train on this numeric array.)"
   ]
  },
  {
   "cell_type": "code",
   "execution_count": 16,
   "metadata": {},
   "outputs": [
    {
     "name": "stdout",
     "output_type": "stream",
     "text": [
      "Defined the create_model, train_model, and plot_the_loss_curve functions.\n"
     ]
    }
   ],
   "source": [
    "#here comes the train and buld model methods definition\n",
    "#And their Plot methods\n",
    "def create_model(my_learning_rate, feature_layer):\n",
    "  \"\"\"Creating and compiling a simple linear regression model.\"\"\"\n",
    "  model = tf.keras.models.Sequential()\n",
    "\n",
    "  # Add the layer containing the feature columns to the model.\n",
    "  model.add(feature_layer)\n",
    "\n",
    "  # Add one linear layer to the model to yield a simple linear regressor.\n",
    "  model.add(tf.keras.layers.Dense(units=1, input_shape=(1,)))\n",
    "\n",
    "  # Constructing the layers into a model that TensorFlow can execute.\n",
    "  model.compile(optimizer=tf.keras.optimizers.RMSprop(learning_rate==my_learning_rate),\n",
    "                loss=\"mean_squared_error\",\n",
    "                metrics=[tf.keras.metrics.RootMeanSquaredError()])\n",
    "\n",
    "  return model           \n",
    "\n",
    "\n",
    "def train_model(model, dataset, epochs, batch_size, label_name):\n",
    "  \"\"\"Feed a dataset into the model in order to train it.\"\"\"\n",
    "\n",
    "  features = {name:np.array(value) for name, value in dataset.items()}\n",
    "  label = np.array(features.pop(label_name))\n",
    "  history = model.fit(x=features, y=label, batch_size=batch_size,\n",
    "                      epochs=epochs, shuffle=True)\n",
    "\n",
    "  # The list of epochs is stored separately from the rest of history.\n",
    "  epochs = history.epoch\n",
    "  \n",
    "  # Isolate the mean absolute error for each epoch.\n",
    "  hist = pd.DataFrame(history.history)\n",
    "  rmse = hist[\"root_mean_squared_error\"]\n",
    "\n",
    "  return epochs, rmse   \n",
    "\n",
    "\n",
    "def plot_the_loss_curve(epochs, rmse):\n",
    "  \"\"\"Plot a curve of loss vs. epoch.\"\"\"\n",
    "\n",
    "  plt.figure()\n",
    "  plt.xlabel(\"Epoch\")\n",
    "  plt.ylabel(\"Root Mean Squared Error\")\n",
    "\n",
    "  plt.plot(epochs, rmse, label=\"Loss\")\n",
    "  plt.legend()\n",
    "  plt.ylim([rmse.min()*0.94, rmse.max()* 1.05])\n",
    "  plt.show()  \n",
    "\n",
    "print(\"Defined the create_model, train_model, and plot_the_loss_curve functions.\")\n"
   ]
  },
  {
   "cell_type": "code",
   "execution_count": 9,
   "metadata": {},
   "outputs": [
    {
     "name": "stderr",
     "output_type": "stream",
     "text": [
      "2021-10-02 13:12:57.604351: E tensorflow/stream_executor/cuda/cuda_driver.cc:271] failed call to cuInit: CUDA_ERROR_NO_DEVICE: no CUDA-capable device is detected\n",
      "2021-10-02 13:12:57.604429: I tensorflow/stream_executor/cuda/cuda_diagnostics.cc:156] kernel driver does not appear to be running on this host (harold-finch): /proc/driver/nvidia/version does not exist\n",
      "2021-10-02 13:12:57.622488: I tensorflow/core/platform/cpu_feature_guard.cc:142] This TensorFlow binary is optimized with oneAPI Deep Neural Network Library (oneDNN) to use the following CPU instructions in performance-critical operations:  AVX2 FMA\n",
      "To enable them in other operations, rebuild TensorFlow with the appropriate compiler flags.\n",
      "/home/arafat/.local/lib/python3.8/site-packages/keras/optimizer_v2/optimizer_v2.py:355: UserWarning: The `lr` argument is deprecated, use `learning_rate` instead.\n",
      "  warnings.warn(\n",
      "2021-10-02 13:12:58.373141: I tensorflow/compiler/mlir/mlir_graph_optimization_pass.cc:185] None of the MLIR Optimization Passes are enabled (registered 2)\n"
     ]
    },
    {
     "name": "stdout",
     "output_type": "stream",
     "text": [
      "Epoch 1/30\n",
      "WARNING:tensorflow:Layers in a Sequential model should only have a single input tensor, but we receive a <class 'dict'> input: {'longitude': <tf.Tensor 'ExpandDims_3:0' shape=(100, 1) dtype=float32>, 'latitude': <tf.Tensor 'ExpandDims_2:0' shape=(100, 1) dtype=float32>, 'housing_median_age': <tf.Tensor 'ExpandDims_1:0' shape=(100, 1) dtype=float32>, 'total_rooms': <tf.Tensor 'ExpandDims_7:0' shape=(100, 1) dtype=float32>, 'total_bedrooms': <tf.Tensor 'ExpandDims_6:0' shape=(100, 1) dtype=float32>, 'population': <tf.Tensor 'ExpandDims_5:0' shape=(100, 1) dtype=float32>, 'households': <tf.Tensor 'ExpandDims:0' shape=(100, 1) dtype=float32>, 'median_income': <tf.Tensor 'ExpandDims_4:0' shape=(100, 1) dtype=float32>}\n",
      "Consider rewriting this model with the Functional API.\n",
      "WARNING:tensorflow:Layers in a Sequential model should only have a single input tensor, but we receive a <class 'dict'> input: {'longitude': <tf.Tensor 'ExpandDims_3:0' shape=(100, 1) dtype=float32>, 'latitude': <tf.Tensor 'ExpandDims_2:0' shape=(100, 1) dtype=float32>, 'housing_median_age': <tf.Tensor 'ExpandDims_1:0' shape=(100, 1) dtype=float32>, 'total_rooms': <tf.Tensor 'ExpandDims_7:0' shape=(100, 1) dtype=float32>, 'total_bedrooms': <tf.Tensor 'ExpandDims_6:0' shape=(100, 1) dtype=float32>, 'population': <tf.Tensor 'ExpandDims_5:0' shape=(100, 1) dtype=float32>, 'households': <tf.Tensor 'ExpandDims:0' shape=(100, 1) dtype=float32>, 'median_income': <tf.Tensor 'ExpandDims_4:0' shape=(100, 1) dtype=float32>}\n",
      "Consider rewriting this model with the Functional API.\n",
      "170/170 [==============================] - 1s 1ms/step - loss: 14541.8027 - root_mean_squared_error: 120.5894\n",
      "Epoch 2/30\n",
      "170/170 [==============================] - 0s 919us/step - loss: 13571.8633 - root_mean_squared_error: 116.4983\n",
      "Epoch 3/30\n",
      "170/170 [==============================] - 0s 875us/step - loss: 13522.6445 - root_mean_squared_error: 116.2869\n",
      "Epoch 4/30\n",
      "170/170 [==============================] - 0s 826us/step - loss: 13461.4531 - root_mean_squared_error: 116.0235\n",
      "Epoch 5/30\n",
      "170/170 [==============================] - 0s 800us/step - loss: 13416.3047 - root_mean_squared_error: 115.8288\n",
      "Epoch 6/30\n",
      "170/170 [==============================] - 0s 837us/step - loss: 13379.0693 - root_mean_squared_error: 115.6679\n",
      "Epoch 7/30\n",
      "170/170 [==============================] - 0s 841us/step - loss: 13339.1445 - root_mean_squared_error: 115.4952\n",
      "Epoch 8/30\n",
      "170/170 [==============================] - 0s 876us/step - loss: 13301.8457 - root_mean_squared_error: 115.3336\n",
      "Epoch 9/30\n",
      "170/170 [==============================] - 0s 851us/step - loss: 13250.0850 - root_mean_squared_error: 115.1090\n",
      "Epoch 10/30\n",
      "170/170 [==============================] - 0s 799us/step - loss: 13219.0303 - root_mean_squared_error: 114.9740\n",
      "Epoch 11/30\n",
      "170/170 [==============================] - 0s 823us/step - loss: 13172.6094 - root_mean_squared_error: 114.7720\n",
      "Epoch 12/30\n",
      "170/170 [==============================] - 0s 940us/step - loss: 13144.0332 - root_mean_squared_error: 114.6474\n",
      "Epoch 13/30\n",
      "170/170 [==============================] - 0s 901us/step - loss: 13116.9453 - root_mean_squared_error: 114.5292\n",
      "Epoch 14/30\n",
      "170/170 [==============================] - 0s 1ms/step - loss: 13093.7793 - root_mean_squared_error: 114.4281\n",
      "Epoch 15/30\n",
      "170/170 [==============================] - 0s 847us/step - loss: 13075.2383 - root_mean_squared_error: 114.3470\n",
      "Epoch 16/30\n",
      "170/170 [==============================] - 0s 874us/step - loss: 13035.7988 - root_mean_squared_error: 114.1744\n",
      "Epoch 17/30\n",
      "170/170 [==============================] - 0s 937us/step - loss: 13018.7686 - root_mean_squared_error: 114.0998\n",
      "Epoch 18/30\n",
      "170/170 [==============================] - 0s 856us/step - loss: 13022.7900 - root_mean_squared_error: 114.1174\n",
      "Epoch 19/30\n",
      "170/170 [==============================] - 0s 827us/step - loss: 12999.7617 - root_mean_squared_error: 114.0165\n",
      "Epoch 20/30\n",
      "170/170 [==============================] - 0s 883us/step - loss: 12980.8701 - root_mean_squared_error: 113.9336\n",
      "Epoch 21/30\n",
      "170/170 [==============================] - 0s 1ms/step - loss: 12956.9482 - root_mean_squared_error: 113.8286\n",
      "Epoch 22/30\n",
      "170/170 [==============================] - 0s 2ms/step - loss: 12939.7744 - root_mean_squared_error: 113.7531\n",
      "Epoch 23/30\n",
      "170/170 [==============================] - 0s 1ms/step - loss: 12924.2676 - root_mean_squared_error: 113.6850\n",
      "Epoch 24/30\n",
      "170/170 [==============================] - 0s 1ms/step - loss: 12931.0713 - root_mean_squared_error: 113.7149\n",
      "Epoch 25/30\n",
      "170/170 [==============================] - 0s 1ms/step - loss: 12905.6172 - root_mean_squared_error: 113.6029\n",
      "Epoch 26/30\n",
      "170/170 [==============================] - 0s 1ms/step - loss: 12898.4961 - root_mean_squared_error: 113.5715\n",
      "Epoch 27/30\n",
      "170/170 [==============================] - 0s 974us/step - loss: 12895.5342 - root_mean_squared_error: 113.5585\n",
      "Epoch 28/30\n",
      "170/170 [==============================] - 0s 1ms/step - loss: 12860.4580 - root_mean_squared_error: 113.4040\n",
      "Epoch 29/30\n",
      "170/170 [==============================] - 0s 955us/step - loss: 12874.5342 - root_mean_squared_error: 113.4660\n",
      "Epoch 30/30\n",
      "170/170 [==============================] - 0s 1ms/step - loss: 12856.7676 - root_mean_squared_error: 113.3877\n"
     ]
    },
    {
     "data": {
      "image/png": "[encoded data removed]",
      "text/plain": [
       "<Figure size 432x288 with 1 Axes>"
      ]
     },
     "metadata": {
      "needs_background": "light"
     },
     "output_type": "display_data"
    },
    {
     "name": "stdout",
     "output_type": "stream",
     "text": [
      "\n",
      ": Evaluating the new model against the test set:\n",
      "WARNING:tensorflow:Layers in a Sequential model should only have a single input tensor, but we receive a <class 'dict'> input: {'longitude': <tf.Tensor 'ExpandDims_3:0' shape=(100, 1) dtype=float32>, 'latitude': <tf.Tensor 'ExpandDims_2:0' shape=(100, 1) dtype=float32>, 'housing_median_age': <tf.Tensor 'ExpandDims_1:0' shape=(100, 1) dtype=float32>, 'total_rooms': <tf.Tensor 'ExpandDims_7:0' shape=(100, 1) dtype=float32>, 'total_bedrooms': <tf.Tensor 'ExpandDims_6:0' shape=(100, 1) dtype=float32>, 'population': <tf.Tensor 'ExpandDims_5:0' shape=(100, 1) dtype=float32>, 'households': <tf.Tensor 'ExpandDims:0' shape=(100, 1) dtype=float32>, 'median_income': <tf.Tensor 'ExpandDims_4:0' shape=(100, 1) dtype=float32>}\n",
      "Consider rewriting this model with the Functional API.\n",
      "30/30 [==============================] - 0s 1ms/step - loss: 12232.0889 - root_mean_squared_error: 110.5988\n"
     ]
    },
    {
     "data": {
      "text/plain": [
       "[12232.0888671875, 110.5987777709961]"
      ]
     },
     "execution_count": 9,
     "metadata": {},
     "output_type": "execute_result"
    }
   ],
   "source": [
    "learning_rate = 0.05\n",
    "epochs = 30\n",
    "batch_size = 100\n",
    "label_name = \"median_house_value\"\n",
    "\n",
    "my_model = create_model(learning_rate,fp_feature_layer)\n",
    "\n",
    "epochs, rmse = train_model(my_model, train_df, epochs, batch_size, label_name)\n",
    "\n",
    "plot_the_loss_curve(epochs, rmse)\n",
    "\n",
    "print(\"\\n: Evaluating the new model against the test set:\")\n",
    "test_features = {name: np.array(value) for name , value in test_df.items()}\n",
    "\n",
    "# print(test_features)\n",
    "test_label = np.array(test_features.pop(label_name))\n",
    "\n",
    "# print(test_label)\n",
    "my_model.evaluate(x=test_features,y = test_label, batch_size= batch_size)\n"
   ]
  },
  {
   "cell_type": "markdown",
   "metadata": {},
   "source": [
    "\n",
    "# No. Representing latitude and longitude as \n",
    "# floating-point values does not have much \n",
    "# predictive power. For example, neighborhoods at \n",
    "# latitude 35 are not 36/35 more valuable \n",
    "# (or 35/36 less valuable) than houses at \n",
    "# latitude 36.\n",
    "\n",
    "# Representing `latitude` and `longitude` as \n",
    "# floating-point values provides almost no \n",
    "# predictive power. We're only using the raw values \n",
    "# to establish a baseline for future experiments \n",
    "# with better representations."
   ]
  },
  {
   "cell_type": "code",
   "execution_count": 11,
   "metadata": {},
   "outputs": [],
   "source": [
    "#Represent LAtitude and longitude in bins\n",
    "#10 buckets for lat\n",
    "#10 buckets for longitude\n",
    "\n",
    "resolution_in_degrees = 1.0\n",
    "\n",
    "feature_columns = []\n",
    "\n",
    "#creating bucket for latitude\n",
    "latitude_as_a_numeric_column = tf.feature_column.numeric_column(\"latitude\")\n",
    "\n",
    "latitude_boundaries = list(np.arange(int(min(train_df['latitude'])),\n",
    "                            int(max(train_df['latitude'])),\n",
    "                            resolution_in_degrees))\n",
    "\n",
    "latitude = tf.feature_column.bucketized_column(latitude_as_a_numeric_column, latitude_boundaries)\n",
    "feature_columns.append(latitude)\n",
    "\n",
    "#creating bucket for longitude\n",
    "longitude_as_a_numeric_column = tf.feature_column.numeric_column(\"longitude\")\n",
    "\n",
    "longitude_boundaries = list(np.arange(int(min(train_df['longitude'])),\n",
    "                            int(max(train_df['longitude'])),\n",
    "                            resolution_in_degrees))\n",
    "\n",
    "longitude = tf.feature_column.bucketized_column(longitude_as_a_numeric_column, longitude_boundaries)\n",
    "\n",
    "feature_columns.append(longitude)\n",
    "\n",
    "buckets_feature_layer = layers.DenseFeatures(feature_columns)\n",
    "\n"
   ]
  },
  {
   "cell_type": "code",
   "execution_count": 12,
   "metadata": {},
   "outputs": [
    {
     "name": "stdout",
     "output_type": "stream",
     "text": [
      "Epoch 1/35\n",
      "WARNING:tensorflow:Layers in a Sequential model should only have a single input tensor, but we receive a <class 'dict'> input: {'longitude': <tf.Tensor 'ExpandDims_3:0' shape=(100, 1) dtype=float32>, 'latitude': <tf.Tensor 'ExpandDims_2:0' shape=(100, 1) dtype=float32>, 'housing_median_age': <tf.Tensor 'ExpandDims_1:0' shape=(100, 1) dtype=float32>, 'total_rooms': <tf.Tensor 'ExpandDims_7:0' shape=(100, 1) dtype=float32>, 'total_bedrooms': <tf.Tensor 'ExpandDims_6:0' shape=(100, 1) dtype=float32>, 'population': <tf.Tensor 'ExpandDims_5:0' shape=(100, 1) dtype=float32>, 'households': <tf.Tensor 'ExpandDims:0' shape=(100, 1) dtype=float32>, 'median_income': <tf.Tensor 'ExpandDims_4:0' shape=(100, 1) dtype=float32>}\n",
      "Consider rewriting this model with the Functional API.\n",
      "WARNING:tensorflow:Layers in a Sequential model should only have a single input tensor, but we receive a <class 'dict'> input: {'longitude': <tf.Tensor 'ExpandDims_3:0' shape=(100, 1) dtype=float32>, 'latitude': <tf.Tensor 'ExpandDims_2:0' shape=(100, 1) dtype=float32>, 'housing_median_age': <tf.Tensor 'ExpandDims_1:0' shape=(100, 1) dtype=float32>, 'total_rooms': <tf.Tensor 'ExpandDims_7:0' shape=(100, 1) dtype=float32>, 'total_bedrooms': <tf.Tensor 'ExpandDims_6:0' shape=(100, 1) dtype=float32>, 'population': <tf.Tensor 'ExpandDims_5:0' shape=(100, 1) dtype=float32>, 'households': <tf.Tensor 'ExpandDims:0' shape=(100, 1) dtype=float32>, 'median_income': <tf.Tensor 'ExpandDims_4:0' shape=(100, 1) dtype=float32>}\n",
      "Consider rewriting this model with the Functional API.\n"
     ]
    },
    {
     "name": "stderr",
     "output_type": "stream",
     "text": [
      "/home/arafat/.local/lib/python3.8/site-packages/keras/optimizer_v2/optimizer_v2.py:355: UserWarning: The `lr` argument is deprecated, use `learning_rate` instead.\n",
      "  warnings.warn(\n"
     ]
    },
    {
     "name": "stdout",
     "output_type": "stream",
     "text": [
      "170/170 [==============================] - 0s 809us/step - loss: 51995.9141 - root_mean_squared_error: 228.0261\n",
      "Epoch 2/35\n",
      "170/170 [==============================] - 0s 878us/step - loss: 44606.6289 - root_mean_squared_error: 211.2028\n",
      "Epoch 3/35\n",
      "170/170 [==============================] - 0s 911us/step - loss: 38032.8086 - root_mean_squared_error: 195.0200\n",
      "Epoch 4/35\n",
      "170/170 [==============================] - 0s 881us/step - loss: 32245.8125 - root_mean_squared_error: 179.5712\n",
      "Epoch 5/35\n",
      "170/170 [==============================] - 0s 886us/step - loss: 27218.1348 - root_mean_squared_error: 164.9792\n",
      "Epoch 6/35\n",
      "170/170 [==============================] - 0s 882us/step - loss: 22949.0117 - root_mean_squared_error: 151.4893\n",
      "Epoch 7/35\n",
      "170/170 [==============================] - 0s 916us/step - loss: 19471.8613 - root_mean_squared_error: 139.5416\n",
      "Epoch 8/35\n",
      "170/170 [==============================] - 0s 934us/step - loss: 16665.1074 - root_mean_squared_error: 129.0934\n",
      "Epoch 9/35\n",
      "170/170 [==============================] - 0s 937us/step - loss: 14517.5459 - root_mean_squared_error: 120.4888\n",
      "Epoch 10/35\n",
      "170/170 [==============================] - 0s 899us/step - loss: 12964.9561 - root_mean_squared_error: 113.8638\n",
      "Epoch 11/35\n",
      "170/170 [==============================] - 0s 893us/step - loss: 11917.8271 - root_mean_squared_error: 109.1688\n",
      "Epoch 12/35\n",
      "170/170 [==============================] - 0s 914us/step - loss: 11319.9873 - root_mean_squared_error: 106.3954\n",
      "Epoch 13/35\n",
      "170/170 [==============================] - 0s 1ms/step - loss: 10980.9180 - root_mean_squared_error: 104.7899\n",
      "Epoch 14/35\n",
      "170/170 [==============================] - 0s 852us/step - loss: 10791.9424 - root_mean_squared_error: 103.8843\n",
      "Epoch 15/35\n",
      "170/170 [==============================] - 0s 889us/step - loss: 10675.1562 - root_mean_squared_error: 103.3206\n",
      "Epoch 16/35\n",
      "170/170 [==============================] - 0s 884us/step - loss: 10599.8057 - root_mean_squared_error: 102.9554\n",
      "Epoch 17/35\n",
      "170/170 [==============================] - 0s 933us/step - loss: 10550.7529 - root_mean_squared_error: 102.7169\n",
      "Epoch 18/35\n",
      "170/170 [==============================] - 0s 925us/step - loss: 10517.2305 - root_mean_squared_error: 102.5536\n",
      "Epoch 19/35\n",
      "170/170 [==============================] - 0s 893us/step - loss: 10493.9805 - root_mean_squared_error: 102.4401\n",
      "Epoch 20/35\n",
      "170/170 [==============================] - 0s 1ms/step - loss: 10476.1162 - root_mean_squared_error: 102.3529\n",
      "Epoch 21/35\n",
      "170/170 [==============================] - 0s 888us/step - loss: 10460.9268 - root_mean_squared_error: 102.2787\n",
      "Epoch 22/35\n",
      "170/170 [==============================] - 0s 829us/step - loss: 10448.6592 - root_mean_squared_error: 102.2187\n",
      "Epoch 23/35\n",
      "170/170 [==============================] - 0s 913us/step - loss: 10436.9121 - root_mean_squared_error: 102.1612\n",
      "Epoch 24/35\n",
      "170/170 [==============================] - 0s 923us/step - loss: 10426.4844 - root_mean_squared_error: 102.1102\n",
      "Epoch 25/35\n",
      "170/170 [==============================] - 0s 938us/step - loss: 10416.2129 - root_mean_squared_error: 102.0599\n",
      "Epoch 26/35\n",
      "170/170 [==============================] - 0s 909us/step - loss: 10407.1533 - root_mean_squared_error: 102.0155\n",
      "Epoch 27/35\n",
      "170/170 [==============================] - 0s 944us/step - loss: 10398.2734 - root_mean_squared_error: 101.9719\n",
      "Epoch 28/35\n",
      "170/170 [==============================] - 0s 901us/step - loss: 10389.9873 - root_mean_squared_error: 101.9313\n",
      "Epoch 29/35\n",
      "170/170 [==============================] - 0s 932us/step - loss: 10381.9775 - root_mean_squared_error: 101.8920\n",
      "Epoch 30/35\n",
      "170/170 [==============================] - 0s 926us/step - loss: 10374.3809 - root_mean_squared_error: 101.8547\n",
      "Epoch 31/35\n",
      "170/170 [==============================] - 0s 937us/step - loss: 10366.7754 - root_mean_squared_error: 101.8174\n",
      "Epoch 32/35\n",
      "170/170 [==============================] - 0s 869us/step - loss: 10359.8369 - root_mean_squared_error: 101.7833\n",
      "Epoch 33/35\n",
      "170/170 [==============================] - 0s 938us/step - loss: 10352.8711 - root_mean_squared_error: 101.7491\n",
      "Epoch 34/35\n",
      "170/170 [==============================] - 0s 963us/step - loss: 10346.1426 - root_mean_squared_error: 101.7160\n",
      "Epoch 35/35\n",
      "170/170 [==============================] - 0s 970us/step - loss: 10340.0869 - root_mean_squared_error: 101.6862\n"
     ]
    },
    {
     "data": {
      "image/png": "[encoded data removed]",
      "text/plain": [
       "<Figure size 432x288 with 1 Axes>"
      ]
     },
     "metadata": {
      "needs_background": "light"
     },
     "output_type": "display_data"
    },
    {
     "name": "stdout",
     "output_type": "stream",
     "text": [
      "\n",
      ": Evaluate the new model against the test set:\n",
      "WARNING:tensorflow:Layers in a Sequential model should only have a single input tensor, but we receive a <class 'dict'> input: {'longitude': <tf.Tensor 'ExpandDims_3:0' shape=(100, 1) dtype=float32>, 'latitude': <tf.Tensor 'ExpandDims_2:0' shape=(100, 1) dtype=float32>, 'housing_median_age': <tf.Tensor 'ExpandDims_1:0' shape=(100, 1) dtype=float32>, 'total_rooms': <tf.Tensor 'ExpandDims_7:0' shape=(100, 1) dtype=float32>, 'total_bedrooms': <tf.Tensor 'ExpandDims_6:0' shape=(100, 1) dtype=float32>, 'population': <tf.Tensor 'ExpandDims_5:0' shape=(100, 1) dtype=float32>, 'households': <tf.Tensor 'ExpandDims:0' shape=(100, 1) dtype=float32>, 'median_income': <tf.Tensor 'ExpandDims_4:0' shape=(100, 1) dtype=float32>}\n",
      "Consider rewriting this model with the Functional API.\n",
      "30/30 [==============================] - 0s 918us/step - loss: 10197.7598 - root_mean_squared_error: 100.9840\n"
     ]
    },
    {
     "data": {
      "text/plain": [
       "[10197.759765625, 100.98395538330078]"
      ]
     },
     "execution_count": 12,
     "metadata": {},
     "output_type": "execute_result"
    }
   ],
   "source": [
    "#train the model with bucketsized features\\\n",
    "\n",
    "learning_rate=0.04\n",
    "epochs = 35\n",
    "\n",
    "my_model = create_model(learning_rate,buckets_feature_layer)\n",
    "\n",
    "epochs, rmse = train_model(my_model, train_df, epochs, batch_size, label_name)\n",
    "\n",
    "plot_the_loss_curve(epochs, rmse)\n",
    "print(\"\\n: Evaluate the new model against the test set:\")\n",
    "\n",
    "my_model.evaluate(x= test_features,y = test_label, batch_size= batch_size )\n",
    "\n"
   ]
  },
  {
   "cell_type": "code",
   "execution_count": 13,
   "metadata": {},
   "outputs": [],
   "source": [
    "#so binning outperforms float point representation of features\n",
    "\n",
    "# more imporvement possible using feature cross\n",
    "\n",
    "feature_columns = []\n",
    "\n",
    "latitude_x_longitude= tf.feature_column.crossed_column([latitude, longitude],hash_bucket_size=100)\n",
    "crossed_feature = tf.feature_column.indicator_column(latitude_x_longitude)\n",
    "feature_columns.append(crossed_feature)\n",
    "\n",
    "feature_cross_feature_layer = layers.DenseFeatures(feature_columns)\n",
    "\n",
    "\n"
   ]
  },
  {
   "cell_type": "code",
   "execution_count": 17,
   "metadata": {},
   "outputs": [
    {
     "name": "stdout",
     "output_type": "stream",
     "text": [
      "Epoch 1/35\n",
      "WARNING:tensorflow:Layers in a Sequential model should only have a single input tensor, but we receive a <class 'dict'> input: {'longitude': <tf.Tensor 'ExpandDims_3:0' shape=(100, 1) dtype=float32>, 'latitude': <tf.Tensor 'ExpandDims_2:0' shape=(100, 1) dtype=float32>, 'housing_median_age': <tf.Tensor 'ExpandDims_1:0' shape=(100, 1) dtype=float32>, 'total_rooms': <tf.Tensor 'ExpandDims_7:0' shape=(100, 1) dtype=float32>, 'total_bedrooms': <tf.Tensor 'ExpandDims_6:0' shape=(100, 1) dtype=float32>, 'population': <tf.Tensor 'ExpandDims_5:0' shape=(100, 1) dtype=float32>, 'households': <tf.Tensor 'ExpandDims:0' shape=(100, 1) dtype=float32>, 'median_income': <tf.Tensor 'ExpandDims_4:0' shape=(100, 1) dtype=float32>}\n",
      "Consider rewriting this model with the Functional API.\n",
      "WARNING:tensorflow:Layers in a Sequential model should only have a single input tensor, but we receive a <class 'dict'> input: {'longitude': <tf.Tensor 'ExpandDims_3:0' shape=(100, 1) dtype=float32>, 'latitude': <tf.Tensor 'ExpandDims_2:0' shape=(100, 1) dtype=float32>, 'housing_median_age': <tf.Tensor 'ExpandDims_1:0' shape=(100, 1) dtype=float32>, 'total_rooms': <tf.Tensor 'ExpandDims_7:0' shape=(100, 1) dtype=float32>, 'total_bedrooms': <tf.Tensor 'ExpandDims_6:0' shape=(100, 1) dtype=float32>, 'population': <tf.Tensor 'ExpandDims_5:0' shape=(100, 1) dtype=float32>, 'households': <tf.Tensor 'ExpandDims:0' shape=(100, 1) dtype=float32>, 'median_income': <tf.Tensor 'ExpandDims_4:0' shape=(100, 1) dtype=float32>}\n",
      "Consider rewriting this model with the Functional API.\n",
      "170/170 [==============================] - 1s 1ms/step - loss: 19979.7227 - root_mean_squared_error: 141.3496\n",
      "Epoch 2/35\n",
      "170/170 [==============================] - 0s 1ms/step - loss: 9648.2773 - root_mean_squared_error: 98.2256\n",
      "Epoch 3/35\n",
      "170/170 [==============================] - 0s 1ms/step - loss: 9627.9238 - root_mean_squared_error: 98.1220\n",
      "Epoch 4/35\n",
      "170/170 [==============================] - 0s 1ms/step - loss: 9627.0186 - root_mean_squared_error: 98.1174\n",
      "Epoch 5/35\n",
      "170/170 [==============================] - 0s 1ms/step - loss: 9623.6270 - root_mean_squared_error: 98.1001\n",
      "Epoch 6/35\n",
      "170/170 [==============================] - 0s 1ms/step - loss: 9631.1514 - root_mean_squared_error: 98.1384\n",
      "Epoch 7/35\n",
      "170/170 [==============================] - 0s 1ms/step - loss: 9619.5596 - root_mean_squared_error: 98.0794\n",
      "Epoch 8/35\n",
      "170/170 [==============================] - 0s 1ms/step - loss: 9623.5293 - root_mean_squared_error: 98.0996\n",
      "Epoch 9/35\n",
      "170/170 [==============================] - 0s 1ms/step - loss: 9624.5068 - root_mean_squared_error: 98.1046\n",
      "Epoch 10/35\n",
      "170/170 [==============================] - 0s 1ms/step - loss: 9628.6289 - root_mean_squared_error: 98.1256\n",
      "Epoch 11/35\n",
      "170/170 [==============================] - 0s 1ms/step - loss: 9623.9814 - root_mean_squared_error: 98.1019\n",
      "Epoch 12/35\n",
      "170/170 [==============================] - 0s 1ms/step - loss: 9621.5195 - root_mean_squared_error: 98.0893\n",
      "Epoch 13/35\n",
      "170/170 [==============================] - 0s 1ms/step - loss: 9624.3672 - root_mean_squared_error: 98.1039\n",
      "Epoch 14/35\n",
      "170/170 [==============================] - 0s 1ms/step - loss: 9627.9082 - root_mean_squared_error: 98.1219\n",
      "Epoch 15/35\n",
      "170/170 [==============================] - 0s 1ms/step - loss: 9618.1133 - root_mean_squared_error: 98.0720\n",
      "Epoch 16/35\n",
      "170/170 [==============================] - 0s 1ms/step - loss: 9629.4189 - root_mean_squared_error: 98.1296\n",
      "Epoch 17/35\n",
      "170/170 [==============================] - 0s 1ms/step - loss: 9623.3506 - root_mean_squared_error: 98.0987\n",
      "Epoch 18/35\n",
      "170/170 [==============================] - 0s 1ms/step - loss: 9623.1514 - root_mean_squared_error: 98.0977\n",
      "Epoch 19/35\n",
      "170/170 [==============================] - 0s 1ms/step - loss: 9625.5869 - root_mean_squared_error: 98.1101\n",
      "Epoch 20/35\n",
      "170/170 [==============================] - 0s 1ms/step - loss: 9619.8145 - root_mean_squared_error: 98.0807\n",
      "Epoch 21/35\n",
      "170/170 [==============================] - 0s 1ms/step - loss: 9623.0283 - root_mean_squared_error: 98.0970\n",
      "Epoch 22/35\n",
      "170/170 [==============================] - 0s 992us/step - loss: 9624.0684 - root_mean_squared_error: 98.1023\n",
      "Epoch 23/35\n",
      "170/170 [==============================] - 0s 1ms/step - loss: 9623.2373 - root_mean_squared_error: 98.0981\n",
      "Epoch 24/35\n",
      "170/170 [==============================] - 0s 1ms/step - loss: 9619.1533 - root_mean_squared_error: 98.0773\n",
      "Epoch 25/35\n",
      "170/170 [==============================] - 0s 1ms/step - loss: 9622.2842 - root_mean_squared_error: 98.0932\n",
      "Epoch 26/35\n",
      "170/170 [==============================] - 0s 1ms/step - loss: 9626.0830 - root_mean_squared_error: 98.1126\n",
      "Epoch 27/35\n",
      "170/170 [==============================] - 0s 1ms/step - loss: 9624.2656 - root_mean_squared_error: 98.1033\n",
      "Epoch 28/35\n",
      "170/170 [==============================] - 0s 1ms/step - loss: 9625.5742 - root_mean_squared_error: 98.1100\n",
      "Epoch 29/35\n",
      "170/170 [==============================] - 0s 1ms/step - loss: 9616.3428 - root_mean_squared_error: 98.0630\n",
      "Epoch 30/35\n",
      "170/170 [==============================] - 0s 1ms/step - loss: 9627.5645 - root_mean_squared_error: 98.1202\n",
      "Epoch 31/35\n",
      "170/170 [==============================] - 0s 2ms/step - loss: 9625.1543 - root_mean_squared_error: 98.1079\n",
      "Epoch 32/35\n",
      "170/170 [==============================] - 0s 1ms/step - loss: 9625.3564 - root_mean_squared_error: 98.1089\n",
      "Epoch 33/35\n",
      "170/170 [==============================] - 0s 1ms/step - loss: 9620.5791 - root_mean_squared_error: 98.0845\n",
      "Epoch 34/35\n",
      "170/170 [==============================] - 0s 1ms/step - loss: 9622.9434 - root_mean_squared_error: 98.0966\n",
      "Epoch 35/35\n",
      "170/170 [==============================] - 0s 1ms/step - loss: 9621.6016 - root_mean_squared_error: 98.0898\n"
     ]
    },
    {
     "data": {
      "image/png": "[encoded data removed]",
      "text/plain": [
       "<Figure size 432x288 with 1 Axes>"
      ]
     },
     "metadata": {
      "needs_background": "light"
     },
     "output_type": "display_data"
    },
    {
     "name": "stdout",
     "output_type": "stream",
     "text": [
      "\n",
      ": Evaluate the new model against the test set:\n",
      "WARNING:tensorflow:Layers in a Sequential model should only have a single input tensor, but we receive a <class 'dict'> input: {'longitude': <tf.Tensor 'ExpandDims_3:0' shape=(100, 1) dtype=float32>, 'latitude': <tf.Tensor 'ExpandDims_2:0' shape=(100, 1) dtype=float32>, 'housing_median_age': <tf.Tensor 'ExpandDims_1:0' shape=(100, 1) dtype=float32>, 'total_rooms': <tf.Tensor 'ExpandDims_7:0' shape=(100, 1) dtype=float32>, 'total_bedrooms': <tf.Tensor 'ExpandDims_6:0' shape=(100, 1) dtype=float32>, 'population': <tf.Tensor 'ExpandDims_5:0' shape=(100, 1) dtype=float32>, 'households': <tf.Tensor 'ExpandDims:0' shape=(100, 1) dtype=float32>, 'median_income': <tf.Tensor 'ExpandDims_4:0' shape=(100, 1) dtype=float32>}\n",
      "Consider rewriting this model with the Functional API.\n",
      "30/30 [==============================] - 0s 934us/step - loss: 9511.5029 - root_mean_squared_error: 97.5269\n"
     ]
    },
    {
     "data": {
      "text/plain": [
       "[9511.5029296875, 97.52693176269531]"
      ]
     },
     "execution_count": 17,
     "metadata": {},
     "output_type": "execute_result"
    }
   ],
   "source": [
    "learning_rate = 0.04\n",
    "epochs = 35\n",
    "# create the model\n",
    "my_model = create_model(learning_rate, feature_cross_feature_layer)\n",
    "\n",
    "#Train the model\n",
    "epochs, rmse = train_model(my_model,train_df, epochs, batch_size, label_name)\n",
    "\n",
    "plot_the_loss_curve(epochs, rmse)\n",
    "\n",
    "print(\"\\n: Evaluate the new model against the test set:\")\n",
    "\n",
    "my_model.evaluate(x = test_features, y = test_label, batch_size= batch_size)\n",
    "\n"
   ]
  }
 ],
 "metadata": {
  "interpreter": {
   "hash": "31f2aee4e71d21fbe5cf8b01ff0e069b9275f58929596ceb00d14d90e3e16cd6"
  },
  "kernelspec": {
   "display_name": "Python 3.8.10 64-bit",
   "name": "python3"
  },
  "language_info": {
   "codemirror_mode": {
    "name": "ipython",
    "version": 3
   },
   "file_extension": ".py",
   "mimetype": "text/x-python",
   "name": "python",
   "nbconvert_exporter": "python",
   "pygments_lexer": "ipython3",
   "version": "3.8.10"
  },
  "orig_nbformat": 4
 },
 "nbformat": 4,
 "nbformat_minor": 2
}